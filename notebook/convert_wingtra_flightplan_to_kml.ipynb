{
 "cells": [
  {
   "cell_type": "markdown",
   "metadata": {},
   "source": [
    "# Convert Wingtra flight plan to KML"
   ]
  },
  {
   "cell_type": "code",
   "execution_count": 47,
   "metadata": {},
   "outputs": [],
   "source": [
    "# Description:\n",
    "# This script converts a flight plan from a JSON file to a KML file, extracting the survey area\n",
    "# and adding a Placemark for the takeoff/landing location.\n",
    "# Functions:\n",
    "#   - convert_flightplan_to_kml: Reads the JSON file, extracts the survey area polygon, \n",
    "#     and converts it to a KML file with a survey area polygon and a takeoff/landing Placemark.\n",
    "# Disclaimer:\n",
    "# AI-assisted debugging, reviewing, and testing were used in this script.\n",
    "# -------------------------------------------------------------------------"
   ]
  },
  {
   "cell_type": "code",
   "execution_count": 8,
   "metadata": {},
   "outputs": [],
   "source": [
    "#pip install simplekml fastkml lxml\n",
    "import json\n",
    "import simplekml\n",
    "import os"
   ]
  },
  {
   "cell_type": "code",
   "execution_count": null,
   "metadata": {},
   "outputs": [],
   "source": [
    "def convert_flightplan_to_kml(file_path):\n",
    "    # Read the JSON flight plan file\n",
    "    with open(file_path, \"r\") as file:\n",
    "        flightplan = json.load(file)\n",
    "\n",
    "    # Extract the flight plan polygon (excluding geofence)\n",
    "    flight_plan = flightplan.get(\"flightPlan\", {})\n",
    "    survey_polygon = flight_plan.get(\"items\", [])\n",
    "\n",
    "    # Find the survey area polygon from ComplexItem with type 'area'\n",
    "    survey_area = None\n",
    "    for item in survey_polygon:\n",
    "        if item.get(\"complexItemType\") == \"area\" and \"polygon\" in item:\n",
    "            survey_area = item[\"polygon\"]\n",
    "            break  # Take only the first survey area\n",
    "\n",
    "    if not survey_area:\n",
    "        print(\"No survey area polygon found.\")\n",
    "        return\n",
    "\n",
    "    # Convert survey_area to KML-compatible format (tuples of (lon, lat))\n",
    "    try:\n",
    "        # Ensure coordinates are formatted as [lon, lat]\n",
    "        kml_coordinates = [(point[1], point[0]) for point in survey_area]\n",
    "    except IndexError:\n",
    "        print(\"Invalid coordinate format in survey area.\")\n",
    "        return\n",
    "\n",
    "    # Create a KML file\n",
    "    kml = simplekml.Kml()\n",
    "\n",
    "    # Add a polygon for the survey area\n",
    "    pol = kml.newpolygon(name=\"Survey Area\", outerboundaryis=kml_coordinates)\n",
    "    pol.style.polystyle.color = simplekml.Color.changealpha(\"4C\", simplekml.Color.rgb(0, 170, 255))  # 30% opacity\n",
    "    pol.style.linestyle.color = simplekml.Color.rgb(0, 170, 255)  # 100% opacity\n",
    "    pol.style.linestyle.width = 2.0\n",
    "\n",
    "    # Add a Placemark for the takeoff/landing location\n",
    "    takeoff_landing = flight_plan.get(\"items\", [])[0].get(\"coordinate\", [])\n",
    "    if takeoff_landing:\n",
    "        kml.newpoint(name=\"Takeoff/Landing\", coords=[(takeoff_landing[1], takeoff_landing[0], takeoff_landing[2])])\n",
    "\n",
    "    # Save the KML file with the same name as input but with .kml extension\n",
    "    kml_filename = os.path.splitext(file_path)[0] + \".kml\"\n",
    "    kml.save(kml_filename)\n",
    "    print(f\"KML file saved: {kml_filename}\")\n"
   ]
  },
  {
   "cell_type": "code",
   "execution_count": null,
   "metadata": {},
   "outputs": [
    {
     "name": "stdout",
     "output_type": "stream",
     "text": [
      "KML file saved: C:/Farid/Projects/West Central/UAS/20250218_ABQ_33780 West Central.kml\n"
     ]
    }
   ],
   "source": [
    "read_folder = \"C:/Farid/Projects/West Central/UAS\"\n",
    "read_file = \"20250218_ABQ_33780 West Central.flightplan\"\n",
    "file_path = str(read_folder) + \"/\" + str(read_file)\n",
    "\n",
    "convert_flightplan_to_kml(file_path)"
   ]
  },
  {
   "cell_type": "code",
   "execution_count": null,
   "metadata": {},
   "outputs": [],
   "source": []
  },
  {
   "cell_type": "code",
   "execution_count": null,
   "metadata": {},
   "outputs": [],
   "source": []
  }
 ],
 "metadata": {
  "kernelspec": {
   "display_name": "Python 3",
   "language": "python",
   "name": "python3"
  },
  "language_info": {
   "codemirror_mode": {
    "name": "ipython",
    "version": 3
   },
   "file_extension": ".py",
   "mimetype": "text/x-python",
   "name": "python",
   "nbconvert_exporter": "python",
   "pygments_lexer": "ipython3",
   "version": "3.13.1"
  }
 },
 "nbformat": 4,
 "nbformat_minor": 2
}
