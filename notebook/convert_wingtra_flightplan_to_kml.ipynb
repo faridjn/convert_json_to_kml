{
 "cells": [
  {
   "cell_type": "markdown",
   "metadata": {},
   "source": [
    "# Convert Wingtra flight plan to KML"
   ]
  },
  {
   "cell_type": "code",
   "execution_count": 53,
   "metadata": {},
   "outputs": [],
   "source": [
    "# Author: Farid Javadnejad\n",
    "# Date: 2025-02-18\n",
    "#\n",
    "# DESCRIPTION:\n",
    "# This script converts a Wingtra UAS flight plan from a .flightplan file (i.e., JSON) to a KML file, \n",
    "# extracting the survey area and adding a Placemark for the takeoff/landing location.\n",
    "#\n",
    "# DISCLAIMER:\n",
    "# This script was developed with the assistance of AI tools for debugging, reviewing, and testing.\n",
    "# ---------------------------------------------------------------------------------------------------"
   ]
  },
  {
   "cell_type": "code",
   "execution_count": 54,
   "metadata": {},
   "outputs": [],
   "source": [
    "#pip install simplekml fastkml lxml\n",
    "import json\n",
    "import os\n",
    "import simplekml"
   ]
  },
  {
   "cell_type": "code",
   "execution_count": 83,
   "metadata": {},
   "outputs": [],
   "source": [
    "import os\n",
    "import simplekml\n",
    "\n",
    "def read_flightplan(file_path):\n",
    "    with open(file_path, \"r\") as file:\n",
    "        return json.load(file)\n",
    "\n",
    "def extract_survey_area(flightplan):\n",
    "    for item in flightplan.get(\"flightPlan\", {}).get(\"items\", []):\n",
    "        if item.get(\"complexItemType\") == \"area\" and \"polygon\" in item:\n",
    "            return item[\"polygon\"]\n",
    "    return None\n",
    "\n",
    "def extract_corridors(flightplan):\n",
    "    corridors = []\n",
    "    for item in flightplan.get(\"flightPlan\", {}).get(\"items\", []):\n",
    "        if item.get(\"complexItemType\") == \"corridor\" and \"corridor\" in item:\n",
    "            polyline = item[\"corridor\"].get(\"polyline\", [])\n",
    "            if polyline:\n",
    "                corridors.append(polyline)\n",
    "    return corridors\n",
    "\n",
    "def convert_to_kml_coordinates(coords):\n",
    "    try:\n",
    "        return [(point[1], point[0]) for point in coords]\n",
    "    except IndexError:\n",
    "        print(\"Invalid coordinate format.\")\n",
    "        return None\n",
    "\n",
    "def create_kml_file(kml_coordinates, corridors, takeoff_landing, file_path):\n",
    "    kml = simplekml.Kml()\n",
    "    \n",
    "    # Add area polygon\n",
    "    if kml_coordinates:\n",
    "        pol = kml.newpolygon(name=\"Flight Area\", outerboundaryis=kml_coordinates)\n",
    "        pol.style.polystyle.color = simplekml.Color.changealpha(\"4C\", simplekml.Color.rgb(0, 0, 0))  # 30% opacity\n",
    "        pol.style.linestyle.color = simplekml.Color.rgb(255, 255, 255)\n",
    "        pol.style.linestyle.width = 1.0\n",
    "    \n",
    "    # Add corridors as polylines\n",
    "    for i, corridor in enumerate(corridors):\n",
    "        kml_coords = convert_to_kml_coordinates(corridor)\n",
    "        if kml_coords:\n",
    "            line = kml.newlinestring(name=f\"Corridor {i+1}\", coords=kml_coords)\n",
    "            line.style.linestyle.color = simplekml.Color.rgb(255, 0, 0)  # Red color\n",
    "            line.style.linestyle.width = 2.0\n",
    "    \n",
    "    # Add takeoff/landing point\n",
    "    if takeoff_landing:\n",
    "        kml.newpoint(name=\"Takeoff/Landing\", coords=[(takeoff_landing[1], takeoff_landing[0], takeoff_landing[2])])\n",
    "    \n",
    "    kml_filename = os.path.splitext(file_path)[0] + \".kml\"\n",
    "    kml.save(kml_filename)\n",
    "    print(f\"KML file saved: {kml_filename}\")\n",
    "\n",
    "def convert_flightplan_to_kml(file_path):\n",
    "    flightplan = read_flightplan(file_path)\n",
    "    survey_area = extract_survey_area(flightplan)\n",
    "    corridors = extract_corridors(flightplan)\n",
    "\n",
    "    kml_coordinates = convert_to_kml_coordinates(survey_area) if survey_area else None\n",
    "    takeoff_landing = flightplan.get(\"flightPlan\", {}).get(\"items\", [])[0].get(\"coordinate\", [])\n",
    "    create_kml_file(kml_coordinates, corridors, takeoff_landing, file_path)"
   ]
  },
  {
   "cell_type": "code",
   "execution_count": 84,
   "metadata": {},
   "outputs": [
    {
     "name": "stdout",
     "output_type": "stream",
     "text": [
      "KML file saved: C:/Farid/Projects/20250225 - NM 128 P1-P2 Additional Survey/Flight Plans/P1-A/NM 128 P1-A Corridor LiDAR.kml\n"
     ]
    }
   ],
   "source": [
    "read_folder = \"C:/Farid/Projects/20250225 - NM 128 P1-P2 Additional Survey/Flight Plans/P1-A\"\n",
    "read_file = \"NM 128 P1-A Corridor LiDAR.flightplan\"\n",
    "file_path = str(read_folder) + \"/\" + str(read_file)\n",
    "\n",
    "convert_flightplan_to_kml(file_path)"
   ]
  },
  {
   "cell_type": "code",
   "execution_count": null,
   "metadata": {},
   "outputs": [],
   "source": []
  },
  {
   "cell_type": "code",
   "execution_count": null,
   "metadata": {},
   "outputs": [],
   "source": []
  }
 ],
 "metadata": {
  "kernelspec": {
   "display_name": "Python 3",
   "language": "python",
   "name": "python3"
  },
  "language_info": {
   "codemirror_mode": {
    "name": "ipython",
    "version": 3
   },
   "file_extension": ".py",
   "mimetype": "text/x-python",
   "name": "python",
   "nbconvert_exporter": "python",
   "pygments_lexer": "ipython3",
   "version": "3.13.1"
  }
 },
 "nbformat": 4,
 "nbformat_minor": 2
}
